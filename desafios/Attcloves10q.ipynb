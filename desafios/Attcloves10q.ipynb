{
  "nbformat": 4,
  "nbformat_minor": 0,
  "metadata": {
    "colab": {
      "provenance": []
    },
    "kernelspec": {
      "name": "python3",
      "display_name": "Python 3"
    },
    "language_info": {
      "name": "python"
    }
  },
  "cells": [
    {
      "cell_type": "code",
      "execution_count": 1,
      "metadata": {
        "colab": {
          "base_uri": "https://localhost:8080/"
        },
        "id": "YOpQYkqS1WaH",
        "outputId": "ae3039dd-41c4-48fd-d215-d9592ef9dd9a"
      },
      "outputs": [
        {
          "output_type": "stream",
          "name": "stdout",
          "text": [
            "Olá mundo\n"
          ]
        }
      ],
      "source": [
        "# 1 Olá Mundo\n",
        "\n",
        "print('Olá mundo')"
      ]
    },
    {
      "cell_type": "code",
      "source": [
        "# 2\n",
        "\n",
        "numero = int(input(\"digite seu numero:\"))\n",
        "print(numero)"
      ],
      "metadata": {
        "colab": {
          "base_uri": "https://localhost:8080/"
        },
        "id": "LOIcj9681hqu",
        "outputId": "2e1e1e10-1e8b-4227-9a19-6d5bd2d56d39"
      },
      "execution_count": 4,
      "outputs": [
        {
          "output_type": "stream",
          "name": "stdout",
          "text": [
            "digite seu numero:99\n",
            "99\n"
          ]
        }
      ]
    },
    {
      "cell_type": "code",
      "source": [
        "# 3 soma de numero\n",
        "\n",
        "num1 = int(input(\"digite seu numero:\"))\n",
        "num2 = int(input(\"digite seu numero:\"))\n",
        "soma = num1 + num2\n",
        "print(soma)"
      ],
      "metadata": {
        "colab": {
          "base_uri": "https://localhost:8080/"
        },
        "id": "WV0Z950718KO",
        "outputId": "80f77981-124d-4cd2-a24a-a65920168816"
      },
      "execution_count": 10,
      "outputs": [
        {
          "output_type": "stream",
          "name": "stdout",
          "text": [
            "digite seu numero:9\n",
            "digite seu numero:8\n",
            "17\n"
          ]
        }
      ]
    },
    {
      "cell_type": "code",
      "source": [
        "# 4 media bimestrais\n",
        "\n",
        "media1 = int(input(\"digite seu numero:\"))\n",
        "media2 = int(input(\"digite seu numero:\"))\n",
        "media3 = int(input(\"digite seu numero:\"))\n",
        "media4 = int(input(\"digite seu numero:\"))\n",
        "\n",
        "media = media1 + media2 + media3 + media4 / 4\n",
        "\n",
        "print(media)"
      ],
      "metadata": {
        "colab": {
          "base_uri": "https://localhost:8080/"
        },
        "id": "xNwhgq2P2fME",
        "outputId": "794bcae8-8834-4d93-b235-957727318504"
      },
      "execution_count": 12,
      "outputs": [
        {
          "output_type": "stream",
          "name": "stdout",
          "text": [
            "digite seu numero:9\n",
            "digite seu numero:8\n",
            "digite seu numero:9\n",
            "digite seu numero:8\n",
            "28.0\n"
          ]
        }
      ]
    },
    {
      "cell_type": "code",
      "source": [
        "# converter medidas\n",
        "\n",
        "metros = float(input(\"Digite o valor em metros: \"))\n",
        "centimetros = metros * 100\n",
        "print(f\"{metros} metros equivalem a {centimetros} centimetros.\")"
      ],
      "metadata": {
        "colab": {
          "base_uri": "https://localhost:8080/"
        },
        "id": "lEDPYHA63Xix",
        "outputId": "bd700be6-3fd4-4631-d2e8-61aba2b31f3f"
      },
      "execution_count": 36,
      "outputs": [
        {
          "output_type": "stream",
          "name": "stdout",
          "text": [
            "Digite o valor em metros: 8\n",
            "8.0 metros equivalem a 800.0 centimetros.\n"
          ]
        }
      ]
    },
    {
      "cell_type": "code",
      "source": [
        "#6 area do circulo\n",
        "\n",
        "import math\n",
        "raio = float(input(\"Digite o raio do círculo (em metros): \"))\n",
        "area_m2 = math.pi * (raio ** 2)\n",
        "area_cm2 = area_m2 * 10000\n",
        "\n",
        "print(f\"\\nÁrea do círculo:\")\n",
        "print(f\"- Em metros quadrados: {area_m2:.2f} m²\")\n",
        "print(f\"- Em centímetros quadrados: {area_cm2:.2f} cm²\")\n",
        "\n"
      ],
      "metadata": {
        "colab": {
          "base_uri": "https://localhost:8080/"
        },
        "id": "-T2tNb_-4muu",
        "outputId": "dd598d22-b034-41b5-fab3-2a7dca5c9fbd"
      },
      "execution_count": 37,
      "outputs": [
        {
          "output_type": "stream",
          "name": "stdout",
          "text": [
            "Digite o raio do círculo (em metros): 90\n",
            "\n",
            "Área do círculo:\n",
            "- Em metros quadrados: 25446.90 m²\n",
            "- Em centímetros quadrados: 254469004.94 cm²\n"
          ]
        }
      ]
    },
    {
      "cell_type": "code",
      "source": [
        "# 7 quadrado\n",
        "\n",
        "lado = float(input(\"Digite o valor do lado do quadrado (em metros): \"))\n",
        "area = lado ** 2\n",
        "dobro_area = area * 2\n",
        "\n",
        "print(f\"\\nÁrea do quadrado: {area:.2f} m²\")\n",
        "print(f\"Dobro da área: {dobro_area:.2f} m²\")"
      ],
      "metadata": {
        "colab": {
          "base_uri": "https://localhost:8080/"
        },
        "id": "1qT8Nz3f5XM9",
        "outputId": "02a664b5-72cf-4bf8-99a1-195ef098e351"
      },
      "execution_count": 38,
      "outputs": [
        {
          "output_type": "stream",
          "name": "stdout",
          "text": [
            "Digite o valor do lado do quadrado (em metros): 90\n",
            "\n",
            "Área do quadrado: 8100.00 m²\n",
            "Dobro da área: 16200.00 m²\n"
          ]
        }
      ]
    },
    {
      "cell_type": "code",
      "source": [
        " # 8 horas n0o mes\n",
        "\n",
        "\n",
        "valor_hora = float(input(\"Digite quanto você ganha por hora (R$): \"))\n",
        "horas_mes = float(input(\"Digite o número de horas trabalhadas no mês: \"))\n",
        "\n",
        "salario = valor_hora * horas_mes\n",
        "\n",
        "print(f\"\\nVocê trabalhou {horas_mes} horas este mês.\")\n",
        "print(f\"Valor por hora: R$ {valor_hora:.2f}\")\n",
        "print(f\"Seu salário no mês é: R$ {salario:.2f}\")"
      ],
      "metadata": {
        "colab": {
          "base_uri": "https://localhost:8080/"
        },
        "id": "XA6tO8ve7CT4",
        "outputId": "64979d9e-0071-4214-8a54-73d4538380e4"
      },
      "execution_count": 39,
      "outputs": [
        {
          "output_type": "stream",
          "name": "stdout",
          "text": [
            "Digite quanto você ganha por hora (R$): 8880\n",
            "Digite o número de horas trabalhadas no mês: 80\n",
            "\n",
            "Você trabalhou 80.0 horas este mês.\n",
            "Valor por hora: R$ 8880.00\n",
            "Seu salário no mês é: R$ 710400.00\n"
          ]
        }
      ]
    },
    {
      "cell_type": "code",
      "source": [
        "# 9 numero positivo ou negativo\n",
        "\n",
        "numero = float(input(\"Digite um número: \"))\n",
        "\n",
        "if numero > 0:\n",
        "        print(\"O número é positivo.\")\n",
        "elif numero < 0:\n",
        "        print(\"O número é negativo.\")\n",
        "else:\n",
        "        print(\"O número é zero.\")"
      ],
      "metadata": {
        "colab": {
          "base_uri": "https://localhost:8080/"
        },
        "id": "Y-DnftY07tI-",
        "outputId": "d47357ad-4ca1-479f-8373-56962ba53ef6"
      },
      "execution_count": 42,
      "outputs": [
        {
          "output_type": "stream",
          "name": "stdout",
          "text": [
            "Digite um número: 89\n",
            "O número é positivo.\n"
          ]
        }
      ]
    },
    {
      "cell_type": "code",
      "source": [
        "# 10\n",
        "\n",
        "letra = input(\"Digite o sexo (F para feminino, M para masculino): \").strip().lower()\n",
        "if letra == 'f':\n",
        "    print(\"Feminino\")\n",
        "elif letra == 'm':\n",
        "    print(\"Masculino\")\n",
        "else:\n",
        "    print(\"Sexo inválido\")"
      ],
      "metadata": {
        "colab": {
          "base_uri": "https://localhost:8080/"
        },
        "id": "eLPNcJAb9fbq",
        "outputId": "87684ebe-f4a7-4d72-dce3-c5aba7c7d3be"
      },
      "execution_count": 43,
      "outputs": [
        {
          "output_type": "stream",
          "name": "stdout",
          "text": [
            "Digite o sexo (F para feminino, M para masculino): m\n",
            "Masculino\n"
          ]
        }
      ]
    }
  ]
}