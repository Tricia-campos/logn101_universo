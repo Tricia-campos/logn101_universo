{
  "nbformat": 4,
  "nbformat_minor": 0,
  "metadata": {
    "colab": {
      "provenance": [],
      "authorship_tag": "ABX9TyPrKsqj6jRYoEE8GGIiIkwj",
      "include_colab_link": true
    },
    "kernelspec": {
      "name": "python3",
      "display_name": "Python 3"
    },
    "language_info": {
      "name": "python"
    }
  },
  "cells": [
    {
      "cell_type": "markdown",
      "metadata": {
        "id": "view-in-github",
        "colab_type": "text"
      },
      "source": [
        "<a href=\"https://colab.research.google.com/github/clovesrocha/logn101_universo/blob/main/Atividade%20de%20python.ipynb\" target=\"_parent\"><img src=\"https://colab.research.google.com/assets/colab-badge.svg\" alt=\"Open In Colab\"/></a>"
      ]
    },
    {
      "cell_type": "code",
      "execution_count": null,
      "metadata": {
        "colab": {
          "base_uri": "https://localhost:8080/"
        },
        "id": "4tQAqiF28qEa",
        "outputId": "aa8fe09e-d5e4-4eac-cf03-4f11d42190ec"
      },
      "outputs": [
        {
          "output_type": "stream",
          "name": "stdout",
          "text": [
            "Olá Mundo!\n"
          ]
        }
      ],
      "source": [
        "print('Olá Mundo!')"
      ]
    },
    {
      "cell_type": "code",
      "source": [
        "numero = float(input('Digite um número: '))\n",
        "print(f'O número informado foi {numero}')"
      ],
      "metadata": {
        "id": "5We1xWqB9Ewc"
      },
      "execution_count": null,
      "outputs": []
    },
    {
      "cell_type": "code",
      "source": [
        "n1 = float(input('Digite um número: '))\n",
        "n2 = float(input('Digite outro número: '))\n",
        "print(f'A soma dos números é {n1 + n2}')"
      ],
      "metadata": {
        "id": "MdY-ZmdD95ZP"
      },
      "execution_count": null,
      "outputs": []
    },
    {
      "cell_type": "code",
      "source": [
        "n1 = float(input('Digite um número: '))\n",
        "n2 = float(input('Digite outro número: '))\n",
        "n3 = float(input('Digite mais um número: ')\n",
        "media = (n1 + n2 + n3) / 3\n",
        "print(f'A média dos números é {media}')"
      ],
      "metadata": {
        "id": "hKWINIpd983j"
      },
      "execution_count": null,
      "outputs": []
    },
    {
      "cell_type": "code",
      "source": [
        "metros = float(input(\"Digite o valor em metros: \"))\n",
        "centimetros = metros * 100\n",
        "print(f\"{metros} metros equivalem a {centimetros} centímetros.\")"
      ],
      "metadata": {
        "colab": {
          "base_uri": "https://localhost:8080/"
        },
        "id": "m7o30FvwIuli",
        "outputId": "85969807-72f7-4f36-cba2-ea73f5b4061d"
      },
      "execution_count": 1,
      "outputs": [
        {
          "output_type": "stream",
          "name": "stdout",
          "text": [
            "Digite o valor em metros: 1\n",
            "1.0 metros equivalem a 100.0 centímetros.\n"
          ]
        }
      ]
    },
    {
      "cell_type": "code",
      "source": [
        "raio = float(input(\"Digite o raio do círculo: \"))\n",
        "area = 3.14 * (raio ** 2)\n",
        "print(f\"A área do círculo de raio {raio} é: {area}\")"
      ],
      "metadata": {
        "colab": {
          "base_uri": "https://localhost:8080/"
        },
        "id": "k9vyVD0BJGpX",
        "outputId": "d3caa0fd-c927-4216-aee2-6cf55fe4be14"
      },
      "execution_count": 2,
      "outputs": [
        {
          "output_type": "stream",
          "name": "stdout",
          "text": [
            "Digite o raio do círculo: 5\n",
            "A área do círculo de raio 5.0 é: 78.5\n"
          ]
        }
      ]
    },
    {
      "cell_type": "code",
      "source": [
        "base = float(input('Digite o valor da base: '))\n",
        "altura = float(input('Digite o valor da altura: '))\n",
        "area = (base * altura)\n",
        "print(f'A area do quadrado é igual {area}')\n",
        "print(f'O dobro da area do quadrado é igual {area * 2}')"
      ],
      "metadata": {
        "colab": {
          "base_uri": "https://localhost:8080/"
        },
        "id": "zSGSjOUYJwCs",
        "outputId": "407ac4c0-9d3a-4cb6-fcb6-7734f48cae32"
      },
      "execution_count": 3,
      "outputs": [
        {
          "output_type": "stream",
          "name": "stdout",
          "text": [
            "Digite o valor da base: 7\n",
            "Digite o valor da altura: 69\n",
            "A area do quadrado é igual 483.0\n",
            "O dobro da area do quadrado é igual 966.0\n"
          ]
        }
      ]
    },
    {
      "cell_type": "code",
      "source": [
        "salario = float(input('Digite o valor que você ganha por hora: '))\n",
        "horas = float(input('Digite o valor de horas trabalhadas no mês: '))\n",
        "salario_bruto = salario * horas\n",
        "print(f'O salário bruto é de {salario_bruto}')"
      ],
      "metadata": {
        "colab": {
          "base_uri": "https://localhost:8080/"
        },
        "id": "L7xIFTFOKzqm",
        "outputId": "c7a3efc7-7493-42e9-a41d-c8be6510d2a3"
      },
      "execution_count": 5,
      "outputs": [
        {
          "output_type": "stream",
          "name": "stdout",
          "text": [
            "Digite o valor que você ganha por hora: 69\n",
            "Digite o valor de horas trabalhadas no mês: 68\n",
            "O salário bruto é de 4692.0\n"
          ]
        }
      ]
    },
    {
      "cell_type": "code",
      "source": [
        "valor = float(input(\"Digite um valor: \"))\n",
        "\n",
        "# Verifica se o valor é positivo, negativo ou zero\n",
        "if valor > 0:\n",
        "    print(\"O valor é POSITIVO.\")\n",
        "else:\n",
        "    print(\"O valor é NEGATIVO.\")"
      ],
      "metadata": {
        "colab": {
          "base_uri": "https://localhost:8080/"
        },
        "id": "3Y0gqe_QOS45",
        "outputId": "94dcbb10-39ab-48fd-89e7-f1a0ee3e79f1"
      },
      "execution_count": 10,
      "outputs": [
        {
          "output_type": "stream",
          "name": "stdout",
          "text": [
            "Digite um valor: -19\n",
            "O valor é NEGATIVO.\n"
          ]
        }
      ]
    },
    {
      "cell_type": "code",
      "source": [
        "letra = input(\"Digite 'F' para Feminino ou 'M' para Masculino: \").upper()\n",
        "if letra == \"F\":\n",
        "    print(\"F - Feminino\")\n",
        "elif letra == \"M\":\n",
        "    print(\"M - Masculino\")\n",
        "else:\n",
        "    print(\"Sexo Inválido\")"
      ],
      "metadata": {
        "id": "Cp6Q2KunO6bQ"
      },
      "execution_count": null,
      "outputs": []
    }
  ]
}