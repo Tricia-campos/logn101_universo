{
  "nbformat": 4,
  "nbformat_minor": 0,
  "metadata": {
    "colab": {
      "provenance": []
    },
    "kernelspec": {
      "name": "python3",
      "display_name": "Python 3"
    },
    "language_info": {
      "name": "python"
    }
  },
  "cells": [
    {
      "cell_type": "code",
      "source": [
        "# 1 Mensagem Olá mundo\n",
        "\n",
        "print(\"Olá mundo\")"
      ],
      "metadata": {
        "colab": {
          "base_uri": "https://localhost:8080/"
        },
        "id": "k-YiB7Pb0gcW",
        "outputId": "855b6be9-d71b-44a3-8a05-9b9670c02084"
      },
      "execution_count": 1,
      "outputs": [
        {
          "output_type": "stream",
          "name": "stdout",
          "text": [
            "Olá mundo\n"
          ]
        }
      ]
    },
    {
      "cell_type": "code",
      "source": [
        "# 2 Numero por inteiro\n",
        "\n",
        "numero = int(input(\"Digite um numero inteiro: \"))\n",
        "print(numero)\n"
      ],
      "metadata": {
        "colab": {
          "base_uri": "https://localhost:8080/"
        },
        "id": "h-hL8-ks0tkV",
        "outputId": "cdef0c70-8f0e-4774-ca08-e55b45d4d94e"
      },
      "execution_count": 2,
      "outputs": [
        {
          "output_type": "stream",
          "name": "stdout",
          "text": [
            "Digite um numero inteiro: 10\n",
            "10\n"
          ]
        }
      ]
    },
    {
      "cell_type": "code",
      "source": [
        "#3 Soma de numero\n",
        "\n",
        "numero = int(input(\"Digite um numero inteiro: \"))\n",
        "numero2 = int(input(\"Digite um numero inteiro: \"))\n",
        "soma = numero + numero2\n",
        "print(soma)\n"
      ],
      "metadata": {
        "colab": {
          "base_uri": "https://localhost:8080/"
        },
        "id": "pZqhBHMP1CO7",
        "outputId": "6b624be8-88bb-4f70-9df5-dcd91ae945d7"
      },
      "execution_count": 3,
      "outputs": [
        {
          "output_type": "stream",
          "name": "stdout",
          "text": [
            "Digite um numero inteiro: 10\n",
            "Digite um numero inteiro: 15\n",
            "25\n"
          ]
        }
      ]
    },
    {
      "cell_type": "code",
      "source": [
        "#4 Notas bimestrais e média final\n",
        "\n",
        "num1 = int(input(\"Digite um numero inteiro: \"))\n",
        "num2 = int(input(\"Digite um numero inteiro: \"))\n",
        "num3 = int(input(\"Digite um numero inteiro: \"))\n",
        "num4 = int(input(\"Digite um numero inteiro: \"))\n",
        "soma = num1 + num2 + num3 + num4\n",
        "media = soma / 4\n",
        "print(soma)"
      ],
      "metadata": {
        "colab": {
          "base_uri": "https://localhost:8080/"
        },
        "id": "rXmPFPZE1q3C",
        "outputId": "23ede0fe-069a-485f-c5d3-157fc4d45d79"
      },
      "execution_count": 4,
      "outputs": [
        {
          "output_type": "stream",
          "name": "stdout",
          "text": [
            "Digite um numero inteiro: 10\n",
            "Digite um numero inteiro: 9\n",
            "Digite um numero inteiro: 8\n",
            "Digite um numero inteiro: 1\n",
            "28\n"
          ]
        }
      ]
    },
    {
      "cell_type": "code",
      "source": [
        "#5 metros para centimetros\n",
        "\n",
        "metros = int(input(\"Digite um numero inteiro: \"))\n",
        "centimetros = metros * 100\n",
        "print(centimetros)"
      ],
      "metadata": {
        "colab": {
          "base_uri": "https://localhost:8080/"
        },
        "id": "97pBq0IS2ASx",
        "outputId": "0e4abbb7-c0f5-4e5f-9ffe-2f77fee77d33"
      },
      "execution_count": 5,
      "outputs": [
        {
          "output_type": "stream",
          "name": "stdout",
          "text": [
            "Digite um numero inteiro: 20\n",
            "2000\n"
          ]
        }
      ]
    },
    {
      "cell_type": "code",
      "source": [
        "#6 raio de um circulo\n",
        "\n",
        "raio = int(input(\"Digite um numero inteiro: \"))\n",
        "pi = 3.14\n",
        "area = pi * (raio * raio)\n",
        "print(area)"
      ],
      "metadata": {
        "colab": {
          "base_uri": "https://localhost:8080/"
        },
        "id": "Y95aqcwT2LgH",
        "outputId": "327eb3e9-a713-40fe-cbe2-45f90e85bfeb"
      },
      "execution_count": 6,
      "outputs": [
        {
          "output_type": "stream",
          "name": "stdout",
          "text": [
            "Digite um numero inteiro: 10\n",
            "314.0\n"
          ]
        }
      ]
    },
    {
      "cell_type": "code",
      "source": [
        "#7 calcular área do quadrado\n",
        "\n",
        "lado = int(input(\"Digite um numero inteiro: \"))\n",
        "area = lado * lado\n",
        "print(area)"
      ],
      "metadata": {
        "colab": {
          "base_uri": "https://localhost:8080/"
        },
        "id": "oP08RPAr2SeA",
        "outputId": "3ce3779e-4321-49f7-eafd-a1d9ff9ecd34"
      },
      "execution_count": 7,
      "outputs": [
        {
          "output_type": "stream",
          "name": "stdout",
          "text": [
            "Digite um numero inteiro: 20\n",
            "400\n"
          ]
        }
      ]
    },
    {
      "cell_type": "code",
      "source": [
        "#8 Quanto ganha por hora\n",
        "\n",
        "horas = int(input(\"Digite a quantidade de horas trabalhadas: \"))\n",
        "valor = int(input(\"Digite o valor: \"))\n",
        "salario = horas * valor\n",
        "print(salario)"
      ],
      "metadata": {
        "colab": {
          "base_uri": "https://localhost:8080/"
        },
        "id": "bqWc4fhN2ktm",
        "outputId": "511002ed-b69d-4623-89f1-c9e3205d78be"
      },
      "execution_count": 15,
      "outputs": [
        {
          "output_type": "stream",
          "name": "stdout",
          "text": [
            "Digite a quantidade de horas trabalhadas: 44\n",
            "Digite o valor: 30\n",
            "1320\n"
          ]
        }
      ]
    },
    {
      "cell_type": "code",
      "source": [
        "#9 valor positivo e negativo\n",
        "\n",
        "numero = int(input(\"Digite um numero inteiro: \"))\n",
        "if numero < 0:\n",
        "    print(\"Negativo\")\n",
        "else:\n",
        "    print(\"Positivo\")"
      ],
      "metadata": {
        "colab": {
          "base_uri": "https://localhost:8080/"
        },
        "id": "tzshE_U725L9",
        "outputId": "e6a6fba4-c36d-4b13-ba74-db9a3d54ef4a"
      },
      "execution_count": 13,
      "outputs": [
        {
          "output_type": "stream",
          "name": "stdout",
          "text": [
            "Digite um numero inteiro: -10\n",
            "Negativo\n"
          ]
        }
      ]
    },
    {
      "cell_type": "code",
      "source": [
        "#10 Codigo que verifica se a letra digitada é F o M\n",
        "\n",
        "letra = input(\"Digite uma letra: \")\n",
        "if letra == \"F\":\n",
        "    print(\"Feminino\")\n",
        "elif letra == \"M\":\n",
        "    print(\"Masculino\")\n",
        "else:\n",
        "    print(\"Sexo invalido\")"
      ],
      "metadata": {
        "colab": {
          "base_uri": "https://localhost:8080/"
        },
        "id": "bqo5Ob5k39za",
        "outputId": "2bf9ed42-0d73-4465-e2e6-5ca7b5af4a67"
      },
      "execution_count": 18,
      "outputs": [
        {
          "output_type": "stream",
          "name": "stdout",
          "text": [
            "Digite uma letra: menor\n",
            "Sexo invalido\n"
          ]
        }
      ]
    }
  ]
}