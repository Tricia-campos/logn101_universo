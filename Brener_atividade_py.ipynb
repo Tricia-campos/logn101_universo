{
  "nbformat": 4,
  "nbformat_minor": 0,
  "metadata": {
    "colab": {
      "provenance": [],
      "include_colab_link": true
    },
    "kernelspec": {
      "name": "python3",
      "display_name": "Python 3"
    },
    "language_info": {
      "name": "python"
    }
  },
  "cells": [
    {
      "cell_type": "markdown",
      "metadata": {
        "id": "view-in-github",
        "colab_type": "text"
      },
      "source": [
        "<a href=\"https://colab.research.google.com/github/clovesrocha/logn101_universo/blob/main/Brener_atividade_py.ipynb\" target=\"_parent\"><img src=\"https://colab.research.google.com/assets/colab-badge.svg\" alt=\"Open In Colab\"/></a>"
      ]
    },
    {
      "cell_type": "code",
      "source": [
        "# Faça um código que mostre a mensagem \"Olá mundo!\"\n",
        "print(\"Olá mundo!\")"
      ],
      "metadata": {
        "id": "iI_5F9ABPl8Y"
      },
      "execution_count": null,
      "outputs": []
    },
    {
      "cell_type": "code",
      "execution_count": null,
      "metadata": {
        "colab": {
          "base_uri": "https://localhost:8080/"
        },
        "id": "57bULAftNJ5c",
        "outputId": "64c531b1-63e3-4989-f041-fb597e97c993"
      },
      "outputs": [
        {
          "output_type": "stream",
          "name": "stdout",
          "text": [
            "Digite um número: 5\n",
            "O número inteiro é: 5\n"
          ]
        }
      ],
      "source": [
        "n1 = int(input(\"Digite um número: \"))\n",
        "n1 = print(f\"O número inteiro é: {n1}\")"
      ]
    },
    {
      "cell_type": "code",
      "source": [
        "n1 = int(input(\"Digite um número: \"))\n",
        "n2 = int(input(\"Digite um número: \"))\n",
        "soma = (n1 + n2)\n",
        "print(f\"O resultado final é: {soma}\")"
      ],
      "metadata": {
        "colab": {
          "base_uri": "https://localhost:8080/"
        },
        "id": "OMgiylYdQQMn",
        "outputId": "d58855e8-e8fb-4be5-a83e-a7333d5c2af0"
      },
      "execution_count": null,
      "outputs": [
        {
          "output_type": "stream",
          "name": "stdout",
          "text": [
            "Digite um número: 5\n",
            "Digite um número: 5\n",
            "O resultado final é: 10\n"
          ]
        }
      ]
    },
    {
      "cell_type": "code",
      "source": [
        "n1 = int(input(\"Digite sua 1° nota: \"))\n",
        "n2 = int(input(\"Digite sua 2° nota: \"))\n",
        "n3 = int(input(\"Digite sua 3° nota: \"))\n",
        "n4 = int(input(\"Digite sua 4° nota: \"))\n",
        "media = (n1 + n2 + n3 + n4)/4\n",
        "print(f\"O resultado final é: {media}\")"
      ],
      "metadata": {
        "id": "gVw0o5ieQsWt"
      },
      "execution_count": null,
      "outputs": []
    },
    {
      "cell_type": "code",
      "source": [
        "# Entrada em metros\n",
        "metros = float(input(\"Digite o valor em metros: \"))\n",
        "\n",
        "# Conversão\n",
        "centimetros = metros * 100\n",
        "\n",
        "# Saída\n",
        "print(f\"{metros} metros equivalem a {centimetros} centímetros.\")\n"
      ],
      "metadata": {
        "id": "DQ2T3PFTRIg-"
      },
      "execution_count": null,
      "outputs": []
    },
    {
      "cell_type": "code",
      "source": [
        "import math\n",
        "\n",
        "raio = float(input(\"Digite o raio do círculo: \"))\n",
        "area = math.pi * (raio ** 2)\n",
        "print(f\"A área do círculo é: {area:.2f}\")\n"
      ],
      "metadata": {
        "id": "eS_oKFtCRaQ0"
      },
      "execution_count": null,
      "outputs": []
    },
    {
      "cell_type": "code",
      "source": [
        "lado = float(input(\"Digite o lado do quadrado: \"))\n",
        "area = lado ** 2\n",
        "dobro_area = area * 2\n",
        "print(f\"A área do quadrado é: {area:.2f}\")\n",
        "print(f\"O dobro da área é: {dobro_area:.2f}\")\n"
      ],
      "metadata": {
        "id": "0GtuA7ktRuIY"
      },
      "execution_count": null,
      "outputs": []
    },
    {
      "cell_type": "code",
      "source": [
        "valor_hora = float(input(\"Quanto você ganha por hora? \"))\n",
        "horas_mes = float(input(\"Quantas horas você trabalhou no mês? \"))\n",
        "salario = valor_hora * horas_mes\n",
        "print(f\"Seu salário no mês é: R${salario:.2f}\")\n"
      ],
      "metadata": {
        "id": "iXnWlun-Rw1A"
      },
      "execution_count": null,
      "outputs": []
    },
    {
      "cell_type": "code",
      "source": [
        "valor = float(input(\"Digite um valor: \"))\n",
        "if valor > 0:\n",
        "    print(\"O valor é positivo.\")\n",
        "elif valor < 0:\n",
        "    print(\"O valor é negativo.\")\n",
        "else:\n",
        "    print(\"O valor é zero.\")\n"
      ],
      "metadata": {
        "id": "tH33qYFvR0XI"
      },
      "execution_count": null,
      "outputs": []
    },
    {
      "cell_type": "code",
      "source": [
        "letra = input(\"Digite 'F' para Feminino ou 'M' para Masculino: \").strip().upper()\n",
        "\n",
        "if letra == \"F\":\n",
        "    print(\"F - Feminino\")\n",
        "elif letra == \"M\":\n",
        "    print(\"M - Masculino\")\n",
        "else:\n",
        "    print(\"Sexo Inválido\")\n"
      ],
      "metadata": {
        "id": "68rseQwvR2Xd"
      },
      "execution_count": null,
      "outputs": []
    }
  ]
}